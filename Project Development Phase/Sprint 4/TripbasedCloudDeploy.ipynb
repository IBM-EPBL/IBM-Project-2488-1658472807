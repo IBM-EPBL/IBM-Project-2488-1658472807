{
  "nbformat": 4,
  "nbformat_minor": 0,
  "metadata": {
    "colab": {
      "provenance": []
    },
    "kernelspec": {
      "name": "python3",
      "display_name": "Python 3"
    },
    "language_info": {
      "name": "python"
    }
  },
  "cells": [
    {
      "cell_type": "code",
      "execution_count": 2,
      "metadata": {
        "colab": {
          "base_uri": "https://localhost:8080/"
        },
        "id": "T8T1ageDr47B",
        "outputId": "447644b3-5ce9-4652-98aa-5f954fe52505"
      },
      "outputs": [
        {
          "output_type": "stream",
          "name": "stdout",
          "text": [
            "Distance travelled:15.4\n",
            "Speed of the vehicle:39\n",
            "Temperature inside the vehicle:22\n",
            "Temperature outside the vechicle:23\n",
            "Is AC turned on? (Enter 0 if turned off, Enter 1 if turned on):0\n",
            "Is it raining outside? (Enter 0 if not raining, Enter 1 if it is raining):0\n",
            "Is the sun clearly visible? (Enter 0 if no, Enter 1 if yes):0\n",
            "Is the type of petrol is E10? (Enter 0 if no, Enter 1 if yes):0\n",
            "Is the type of petrol is SP98? (Enter 0 if no, Enter 1 if yes):1\n",
            "Scoring response\n",
            "{'predictions': [{'fields': ['prediction'], 'values': [[5.3]]}]}\n"
          ]
        }
      ],
      "source": [
        "import requests\n",
        "\n",
        "# NOTE: you must manually set API_KEY below using information retrieved from your IBM Cloud account.\n",
        "API_KEY = \"3NS6Mw_Q34G6EzqNroX-p-f-W_Z18pzigd2qz8FR2WuS\"\n",
        "token_response = requests.post('https://iam.cloud.ibm.com/identity/token', data={\"apikey\":\n",
        " API_KEY, \"grant_type\": 'urn:ibm:params:oauth:grant-type:apikey'})\n",
        "mltoken = token_response.json()[\"access_token\"]\n",
        "\n",
        "header = {'Content-Type': 'application/json', 'Authorization': 'Bearer ' + mltoken}\n",
        "\n",
        "# NOTE: manually define and pass the array(s) of values to be scored in the next line\n",
        "distance=float(input(\"Distance travelled:\"))\n",
        "speed=int(input(\"Speed of the vehicle:\"))\n",
        "temp_inside=int(input(\"Temperature inside the vehicle:\"))\n",
        "temp_outside=int(input(\"Temperature outside the vechicle:\"))\n",
        "AC=int(input(\"Is AC turned on? (Enter 0 if turned off, Enter 1 if turned on):\"))\n",
        "rain=int(input(\"Is it raining outside? (Enter 0 if not raining, Enter 1 if it is raining):\"))\n",
        "sun=int(input(\"Is the sun clearly visible? (Enter 0 if no, Enter 1 if yes):\"))\n",
        "E10=int(input(\"Is the type of petrol is E10? (Enter 0 if no, Enter 1 if yes):\"))\n",
        "SP98=int(input(\"Is the type of petrol is SP98? (Enter 0 if no, Enter 1 if yes):\"))\n",
        "\n",
        "'''distance, speed, temp_inside, temp_outside,AC, rain, sun, E10,SP98=15.4,39,22,23,0,0,0,0,1'''\n",
        "features= [[distance, speed, temp_inside, temp_outside, AC, rain, sun, \n",
        "       E10,\n",
        "       SP98]]\n",
        "\n",
        "payload_scoring = {\"input_data\": [{\"field\": [[\"distance\", \"speed\", \"temp_inside\", \"temp_outside\",\n",
        "       \"specials\", \"AC\", \"rain\", \"sun\", \"E10\",\n",
        "       \"SP98\"]], \"values\":features}]}\n",
        "\n",
        "response_scoring = requests.post('https://us-south.ml.cloud.ibm.com/ml/v4/deployments/e5d76088-9d1f-4513-8c63-22fd982a7f39/predictions?version=2022-11-15', json=payload_scoring,\n",
        "headers={'Authorization': 'Bearer ' + mltoken})\n",
        "print(\"Scoring response\")\n",
        "print(response_scoring.json())"
      ]
    },
    {
      "cell_type": "code",
      "source": [
        "pred=response_scoring.json()\n",
        "prediction=pred['predictions'][0]['values'][0][0]\n",
        "print(prediction)"
      ],
      "metadata": {
        "colab": {
          "base_uri": "https://localhost:8080/"
        },
        "id": "ScQ2mOacxjER",
        "outputId": "61cf97c3-6227-4b66-cd2b-1f93452ecc3c"
      },
      "execution_count": 3,
      "outputs": [
        {
          "output_type": "stream",
          "name": "stdout",
          "text": [
            "5.3\n"
          ]
        }
      ]
    },
    {
      "cell_type": "markdown",
      "source": [],
      "metadata": {
        "id": "RSDYw-7br_LS"
      }
    }
  ]
}